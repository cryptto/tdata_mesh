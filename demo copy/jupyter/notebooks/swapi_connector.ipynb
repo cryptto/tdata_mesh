{
 "cells": [
  {
   "cell_type": "markdown",
   "id": "e458f907",
   "metadata": {},
   "source": [
    "## Connecting to Presto\n",
    "\n",
    "The three mandatory arguments to create a connection are host, port, and user. Other arguments such as source allow to identify the origin of the query. A common use case is to use it to tell which service, tool, or code sent the query.\n",
    "\n",
    "Let's create a connection:"
   ]
  },
  {
   "cell_type": "code",
   "execution_count": 7,
   "id": "b9ae8cfd",
   "metadata": {},
   "outputs": [
    {
     "data": {
      "text/plain": [
       "<prestodb.dbapi.Cursor at 0x7f1e95458100>"
      ]
     },
     "execution_count": 7,
     "metadata": {},
     "output_type": "execute_result"
    }
   ],
   "source": [
    "import prestodb.dbapi as presto\n",
    "\n",
    "conn = presto.Connection(host=\"presto\", port=8080, user=\"demo\")\n",
    "cur = conn.cursor()\n",
    "cur"
   ]
  },
  {
   "cell_type": "markdown",
   "id": "779f07be",
   "metadata": {},
   "source": [
    "## SWAPI Catalog\n",
    "\n",
    "The `swapi-connector` plugin exposes the REST server as a single catalog: `star_wars`."
   ]
  },
  {
   "cell_type": "code",
   "execution_count": 12,
   "id": "442b976e",
   "metadata": {},
   "outputs": [
    {
     "data": {
      "text/plain": [
       "[['hive'],\n",
       " ['minio'],\n",
       " ['mongodb'],\n",
       " ['mysql'],\n",
       " ['postgres'],\n",
       " ['swapi'],\n",
       " ['system'],\n",
       " ['tcph']]"
      ]
     },
     "execution_count": 12,
     "metadata": {},
     "output_type": "execute_result"
    }
   ],
   "source": [
    "cur.execute(\"SHOW catalogs\")\n",
    "cur.fetchall()"
   ]
  },
  {
   "cell_type": "markdown",
   "id": "404326b2",
   "metadata": {},
   "source": [
    "## Star Wars Schema\n",
    "\n",
    "Within the `swapi` catalog is a single schema called `star_wars`"
   ]
  },
  {
   "cell_type": "code",
   "execution_count": 20,
   "id": "12b42f7c",
   "metadata": {},
   "outputs": [],
   "source": [
    "cur.execute(\"SHOW schemas FROM swapi\");\n",
    "cur.fetchall();"
   ]
  },
  {
   "cell_type": "markdown",
   "id": "730be866",
   "metadata": {},
   "source": [
    "## Star Wars Tables\n",
    "\n",
    "The `star_wars` schema maps SWAPI REST endpoints to tables."
   ]
  },
  {
   "cell_type": "code",
   "execution_count": 18,
   "id": "dc403897",
   "metadata": {},
   "outputs": [
    {
     "data": {
      "text/plain": [
       "[['films'], ['people'], ['planets'], ['species'], ['starships'], ['vehicles']]"
      ]
     },
     "execution_count": 18,
     "metadata": {},
     "output_type": "execute_result"
    }
   ],
   "source": [
    "cur.execute(\"SHOW tables FROM swapi.star_wars\")\n",
    "cur.fetchall()"
   ]
  },
  {
   "cell_type": "markdown",
   "id": "cf7459a6",
   "metadata": {},
   "source": [
    "## Querying\n",
    "\n",
    "We can now query the Star Wars dataset using SQL."
   ]
  },
  {
   "cell_type": "code",
   "execution_count": 22,
   "id": "24438ed5",
   "metadata": {},
   "outputs": [
    {
     "data": {
      "text/html": [
       "<div>\n",
       "<style scoped>\n",
       "    .dataframe tbody tr th:only-of-type {\n",
       "        vertical-align: middle;\n",
       "    }\n",
       "\n",
       "    .dataframe tbody tr th {\n",
       "        vertical-align: top;\n",
       "    }\n",
       "\n",
       "    .dataframe thead th {\n",
       "        text-align: right;\n",
       "    }\n",
       "</style>\n",
       "<table border=\"1\" class=\"dataframe\">\n",
       "  <thead>\n",
       "    <tr style=\"text-align: right;\">\n",
       "      <th></th>\n",
       "      <th>0</th>\n",
       "      <th>1</th>\n",
       "      <th>2</th>\n",
       "      <th>3</th>\n",
       "      <th>4</th>\n",
       "      <th>5</th>\n",
       "      <th>6</th>\n",
       "      <th>7</th>\n",
       "      <th>8</th>\n",
       "      <th>9</th>\n",
       "      <th>10</th>\n",
       "      <th>11</th>\n",
       "      <th>12</th>\n",
       "      <th>13</th>\n",
       "      <th>14</th>\n",
       "      <th>15</th>\n",
       "      <th>16</th>\n",
       "    </tr>\n",
       "  </thead>\n",
       "  <tbody>\n",
       "    <tr>\n",
       "      <th>0</th>\n",
       "      <td>1</td>\n",
       "      <td>Luke Skywalker</td>\n",
       "      <td>172</td>\n",
       "      <td>77</td>\n",
       "      <td>blond</td>\n",
       "      <td>fair</td>\n",
       "      <td>blue</td>\n",
       "      <td>19BBY</td>\n",
       "      <td>male</td>\n",
       "      <td>1</td>\n",
       "      <td>[1, 2, 3, 6]</td>\n",
       "      <td>[]</td>\n",
       "      <td>[14, 30]</td>\n",
       "      <td>[12, 22]</td>\n",
       "      <td>2014-12-09T13:50:51.644000Z</td>\n",
       "      <td>2014-12-20T21:17:56.891000Z</td>\n",
       "      <td>http://swapi.dev/api/people/1/</td>\n",
       "    </tr>\n",
       "    <tr>\n",
       "      <th>1</th>\n",
       "      <td>2</td>\n",
       "      <td>C-3PO</td>\n",
       "      <td>167</td>\n",
       "      <td>75</td>\n",
       "      <td>n/a</td>\n",
       "      <td>gold</td>\n",
       "      <td>yellow</td>\n",
       "      <td>112BBY</td>\n",
       "      <td>n/a</td>\n",
       "      <td>1</td>\n",
       "      <td>[1, 2, 3, 4, 5, 6]</td>\n",
       "      <td>[2]</td>\n",
       "      <td>[]</td>\n",
       "      <td>[]</td>\n",
       "      <td>2014-12-10T15:10:51.357000Z</td>\n",
       "      <td>2014-12-20T21:17:50.309000Z</td>\n",
       "      <td>http://swapi.dev/api/people/2/</td>\n",
       "    </tr>\n",
       "    <tr>\n",
       "      <th>2</th>\n",
       "      <td>3</td>\n",
       "      <td>R2-D2</td>\n",
       "      <td>96</td>\n",
       "      <td>32</td>\n",
       "      <td>n/a</td>\n",
       "      <td>white, blue</td>\n",
       "      <td>red</td>\n",
       "      <td>33BBY</td>\n",
       "      <td>n/a</td>\n",
       "      <td>8</td>\n",
       "      <td>[1, 2, 3, 4, 5, 6]</td>\n",
       "      <td>[2]</td>\n",
       "      <td>[]</td>\n",
       "      <td>[]</td>\n",
       "      <td>2014-12-10T15:11:50.376000Z</td>\n",
       "      <td>2014-12-20T21:17:50.311000Z</td>\n",
       "      <td>http://swapi.dev/api/people/3/</td>\n",
       "    </tr>\n",
       "    <tr>\n",
       "      <th>3</th>\n",
       "      <td>4</td>\n",
       "      <td>Darth Vader</td>\n",
       "      <td>202</td>\n",
       "      <td>136</td>\n",
       "      <td>none</td>\n",
       "      <td>white</td>\n",
       "      <td>yellow</td>\n",
       "      <td>41.9BBY</td>\n",
       "      <td>male</td>\n",
       "      <td>1</td>\n",
       "      <td>[1, 2, 3, 6]</td>\n",
       "      <td>[]</td>\n",
       "      <td>[]</td>\n",
       "      <td>[13]</td>\n",
       "      <td>2014-12-10T15:18:20.704000Z</td>\n",
       "      <td>2014-12-20T21:17:50.313000Z</td>\n",
       "      <td>http://swapi.dev/api/people/4/</td>\n",
       "    </tr>\n",
       "    <tr>\n",
       "      <th>4</th>\n",
       "      <td>5</td>\n",
       "      <td>Leia Organa</td>\n",
       "      <td>150</td>\n",
       "      <td>49</td>\n",
       "      <td>brown</td>\n",
       "      <td>light</td>\n",
       "      <td>brown</td>\n",
       "      <td>19BBY</td>\n",
       "      <td>female</td>\n",
       "      <td>2</td>\n",
       "      <td>[1, 2, 3, 6]</td>\n",
       "      <td>[]</td>\n",
       "      <td>[30]</td>\n",
       "      <td>[]</td>\n",
       "      <td>2014-12-10T15:20:09.791000Z</td>\n",
       "      <td>2014-12-20T21:17:50.315000Z</td>\n",
       "      <td>http://swapi.dev/api/people/5/</td>\n",
       "    </tr>\n",
       "  </tbody>\n",
       "</table>\n",
       "</div>"
      ],
      "text/plain": [
       "   0               1    2    3      4            5       6        7       8   \\\n",
       "0   1  Luke Skywalker  172   77  blond         fair    blue    19BBY    male   \n",
       "1   2           C-3PO  167   75    n/a         gold  yellow   112BBY     n/a   \n",
       "2   3           R2-D2   96   32    n/a  white, blue     red    33BBY     n/a   \n",
       "3   4     Darth Vader  202  136   none        white  yellow  41.9BBY    male   \n",
       "4   5     Leia Organa  150   49  brown        light   brown    19BBY  female   \n",
       "\n",
       "   9                   10   11        12        13  \\\n",
       "0   1        [1, 2, 3, 6]   []  [14, 30]  [12, 22]   \n",
       "1   1  [1, 2, 3, 4, 5, 6]  [2]        []        []   \n",
       "2   8  [1, 2, 3, 4, 5, 6]  [2]        []        []   \n",
       "3   1        [1, 2, 3, 6]   []        []      [13]   \n",
       "4   2        [1, 2, 3, 6]   []      [30]        []   \n",
       "\n",
       "                            14                           15  \\\n",
       "0  2014-12-09T13:50:51.644000Z  2014-12-20T21:17:56.891000Z   \n",
       "1  2014-12-10T15:10:51.357000Z  2014-12-20T21:17:50.309000Z   \n",
       "2  2014-12-10T15:11:50.376000Z  2014-12-20T21:17:50.311000Z   \n",
       "3  2014-12-10T15:18:20.704000Z  2014-12-20T21:17:50.313000Z   \n",
       "4  2014-12-10T15:20:09.791000Z  2014-12-20T21:17:50.315000Z   \n",
       "\n",
       "                               16  \n",
       "0  http://swapi.dev/api/people/1/  \n",
       "1  http://swapi.dev/api/people/2/  \n",
       "2  http://swapi.dev/api/people/3/  \n",
       "3  http://swapi.dev/api/people/4/  \n",
       "4  http://swapi.dev/api/people/5/  "
      ]
     },
     "metadata": {},
     "output_type": "display_data"
    }
   ],
   "source": [
    "cur.execute(\"SELECT * FROM swapi.star_wars.people LIMIT 5\")\n",
    "rows = cur.fetchall()\n",
    "\n",
    "import pandas as pd\n",
    "from IPython.display import display\n",
    "\n",
    "df = pd.DataFrame(rows)\n",
    "display(df)"
   ]
  },
  {
   "cell_type": "markdown",
   "id": "865d272c",
   "metadata": {},
   "source": [
    "## Advanced Querying\n",
    "\n",
    "Presto allows us to do advanced querying/filtering beyond what is provided by the underlying REST API. In this case, the SWAPI does no support querying/filtering at all, however we can still execute more complex SQL queries on it. For example, if we only want people with blue eyes:"
   ]
  },
  {
   "cell_type": "code",
   "execution_count": 24,
   "id": "06802421",
   "metadata": {},
   "outputs": [
    {
     "data": {
      "text/html": [
       "<div>\n",
       "<style scoped>\n",
       "    .dataframe tbody tr th:only-of-type {\n",
       "        vertical-align: middle;\n",
       "    }\n",
       "\n",
       "    .dataframe tbody tr th {\n",
       "        vertical-align: top;\n",
       "    }\n",
       "\n",
       "    .dataframe thead th {\n",
       "        text-align: right;\n",
       "    }\n",
       "</style>\n",
       "<table border=\"1\" class=\"dataframe\">\n",
       "  <thead>\n",
       "    <tr style=\"text-align: right;\">\n",
       "      <th></th>\n",
       "      <th>0</th>\n",
       "      <th>1</th>\n",
       "    </tr>\n",
       "  </thead>\n",
       "  <tbody>\n",
       "    <tr>\n",
       "      <th>0</th>\n",
       "      <td>Luke Skywalker</td>\n",
       "      <td>blue</td>\n",
       "    </tr>\n",
       "    <tr>\n",
       "      <th>1</th>\n",
       "      <td>Owen Lars</td>\n",
       "      <td>blue</td>\n",
       "    </tr>\n",
       "    <tr>\n",
       "      <th>2</th>\n",
       "      <td>Beru Whitesun lars</td>\n",
       "      <td>blue</td>\n",
       "    </tr>\n",
       "    <tr>\n",
       "      <th>3</th>\n",
       "      <td>Anakin Skywalker</td>\n",
       "      <td>blue</td>\n",
       "    </tr>\n",
       "    <tr>\n",
       "      <th>4</th>\n",
       "      <td>Wilhuff Tarkin</td>\n",
       "      <td>blue</td>\n",
       "    </tr>\n",
       "  </tbody>\n",
       "</table>\n",
       "</div>"
      ],
      "text/plain": [
       "                    0     1\n",
       "0      Luke Skywalker  blue\n",
       "1           Owen Lars  blue\n",
       "2  Beru Whitesun lars  blue\n",
       "3    Anakin Skywalker  blue\n",
       "4      Wilhuff Tarkin  blue"
      ]
     },
     "metadata": {},
     "output_type": "display_data"
    }
   ],
   "source": [
    "cur.execute(\"SELECT swapi.star_wars.people.name,swapi.star_wars.people.eye_color FROM swapi.star_wars.people WHERE eye_color='blue' LIMIT 5\")\n",
    "rows = cur.fetchall()\n",
    "\n",
    "import pandas as pd\n",
    "from IPython.display import display\n",
    "\n",
    "df = pd.DataFrame(rows)\n",
    "display(df)"
   ]
  },
  {
   "cell_type": "markdown",
   "id": "ba623f5b",
   "metadata": {},
   "source": [
    "## Joins\n",
    "\n",
    "We can even use joins across the tables the `swapi-connector` exposes. For example, if we want to know the name of each character is from we need data from the `people` table and the `planets` table."
   ]
  },
  {
   "cell_type": "code",
   "execution_count": 25,
   "id": "68ae692b",
   "metadata": {},
   "outputs": [
    {
     "data": {
      "text/html": [
       "<div>\n",
       "<style scoped>\n",
       "    .dataframe tbody tr th:only-of-type {\n",
       "        vertical-align: middle;\n",
       "    }\n",
       "\n",
       "    .dataframe tbody tr th {\n",
       "        vertical-align: top;\n",
       "    }\n",
       "\n",
       "    .dataframe thead th {\n",
       "        text-align: right;\n",
       "    }\n",
       "</style>\n",
       "<table border=\"1\" class=\"dataframe\">\n",
       "  <thead>\n",
       "    <tr style=\"text-align: right;\">\n",
       "      <th></th>\n",
       "      <th>0</th>\n",
       "      <th>1</th>\n",
       "    </tr>\n",
       "  </thead>\n",
       "  <tbody>\n",
       "    <tr>\n",
       "      <th>0</th>\n",
       "      <td>Luke Skywalker</td>\n",
       "      <td>Tatooine</td>\n",
       "    </tr>\n",
       "    <tr>\n",
       "      <th>1</th>\n",
       "      <td>C-3PO</td>\n",
       "      <td>Tatooine</td>\n",
       "    </tr>\n",
       "    <tr>\n",
       "      <th>2</th>\n",
       "      <td>R2-D2</td>\n",
       "      <td>Naboo</td>\n",
       "    </tr>\n",
       "    <tr>\n",
       "      <th>3</th>\n",
       "      <td>Darth Vader</td>\n",
       "      <td>Tatooine</td>\n",
       "    </tr>\n",
       "    <tr>\n",
       "      <th>4</th>\n",
       "      <td>Leia Organa</td>\n",
       "      <td>Alderaan</td>\n",
       "    </tr>\n",
       "  </tbody>\n",
       "</table>\n",
       "</div>"
      ],
      "text/plain": [
       "                0         1\n",
       "0  Luke Skywalker  Tatooine\n",
       "1           C-3PO  Tatooine\n",
       "2           R2-D2     Naboo\n",
       "3     Darth Vader  Tatooine\n",
       "4     Leia Organa  Alderaan"
      ]
     },
     "metadata": {},
     "output_type": "display_data"
    }
   ],
   "source": [
    "cur.execute(\"SELECT swapi.star_wars.people.name,swapi.star_wars.planets.name FROM swapi.star_wars.people INNER JOIN swapi.star_wars.planets ON swapi.star_wars.people.homeworld=swapi.star_wars.planets.id LIMIT 5\")\n",
    "rows = cur.fetchall()\n",
    "\n",
    "import pandas as pd\n",
    "from IPython.display import display\n",
    "\n",
    "df = pd.DataFrame(rows)\n",
    "display(df)"
   ]
  },
  {
   "cell_type": "code",
   "execution_count": null,
   "id": "bf471e11",
   "metadata": {},
   "outputs": [],
   "source": []
  }
 ],
 "metadata": {
  "kernelspec": {
   "display_name": "Python 3",
   "language": "python",
   "name": "python3"
  },
  "language_info": {
   "codemirror_mode": {
    "name": "ipython",
    "version": 3
   },
   "file_extension": ".py",
   "mimetype": "text/x-python",
   "name": "python",
   "nbconvert_exporter": "python",
   "pygments_lexer": "ipython3",
   "version": "3.8.8"
  }
 },
 "nbformat": 4,
 "nbformat_minor": 5
}
